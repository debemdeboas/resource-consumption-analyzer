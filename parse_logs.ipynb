{
 "cells": [
  {
   "cell_type": "markdown",
   "metadata": {},
   "source": [
    "# Parse logs gathered from `gather_data.sh` script\n",
    "\n",
    "This Jupyter notebook parses the `docker ps` output and splits it into digestible graphs.\n",
    "\n",
    "The only containers that are analyzed are the ones defined in the `CONTAINERS` dictionary below.\n",
    "Other containers are ignored."
   ]
  },
  {
   "cell_type": "code",
   "execution_count": 1,
   "metadata": {},
   "outputs": [],
   "source": [
    "# This dictionary contains a mapping from the pretty name of the container to the name of the container in the logs\n",
    "CONTAINERS: dict[str, str] = {\n",
    "    \"Data Manager\": \"edge_data_manager\",\n",
    "    \"Edge Broker\": \"edge_broker\",\n",
    "    \"MongoDB\": \"case2-mongodb-1\",\n",
    "}\n",
    "\n",
    "# Configure the path to the logs directory (no trailing slash)\n",
    "LOGS_DIR = \"../case_2/logs\""
   ]
  },
  {
   "cell_type": "markdown",
   "metadata": {},
   "source": [
    "From here on, there's a lot of code."
   ]
  },
  {
   "cell_type": "code",
   "execution_count": 2,
   "metadata": {},
   "outputs": [],
   "source": [
    "import math\n",
    "import os\n",
    "import re\n",
    "from collections.abc import Callable\n",
    "from dataclasses import dataclass\n",
    "from glob import iglob\n",
    "from typing import Iterable\n",
    "\n",
    "import matplotlib.pyplot as plt\n",
    "import numpy as np\n",
    "import pandas as pd"
   ]
  },
  {
   "cell_type": "markdown",
   "metadata": {},
   "source": [
    "Here we're defining a lot of helper functions to facilitate data parsing and analysis. Some of them aren't used anymore."
   ]
  },
  {
   "cell_type": "code",
   "execution_count": 3,
   "metadata": {},
   "outputs": [],
   "source": [
    "@dataclass\n",
    "class MetaFig:\n",
    "    title: str\n",
    "    data_keys: list[str]\n",
    "    xlim: tuple\n",
    "    ylim: tuple | None = None\n",
    "    figure: plt.Figure = None\n",
    "    axes: np.ndarray = None\n",
    "    fmt: Callable | None = None\n",
    "    labels: list | None = None\n",
    "    data_transform: Callable[[pd.Series], pd.Series] | None = None\n",
    "    replicas: dict[str, tuple[plt.Figure, np.ndarray]] = None\n",
    "\n",
    "    def data(self, df: pd.DataFrame):\n",
    "        for key in self.data_keys:\n",
    "            yield df[key] if self.data_transform is None else df[key].apply(self.data_transform)\n",
    "\n",
    "\n",
    "def split_on_slash(df_col, split_index):\n",
    "    return df_col.apply(lambda x: x.split(\" / \")[split_index])\n",
    "\n",
    "\n",
    "def get_only_characters(string):\n",
    "    return re.sub(r\"[^a-zA-Z]+\", \"\", string)\n",
    "\n",
    "\n",
    "def get_only_numbers(string):\n",
    "    return float(re.sub(r\"[^\\d\\.]\", \"\", string))\n",
    "\n",
    "\n",
    "def to_bit(value):\n",
    "    return int(\n",
    "        {\n",
    "            \"b\": get_only_numbers(value) * 1,\n",
    "            \"kib\": get_only_numbers(value) * 8e3,\n",
    "            \"kb\": get_only_numbers(value) * 8e3,\n",
    "            \"mib\": get_only_numbers(value) * 8e6,\n",
    "            \"mb\": get_only_numbers(value) * 8e6,\n",
    "            \"gib\": get_only_numbers(value) * 8e9,\n",
    "            \"gb\": get_only_numbers(value) * 8e9,\n",
    "        }.get(get_only_characters(value).lower(), 0)\n",
    "    )\n",
    "\n",
    "\n",
    "def from_bit(value: int):\n",
    "    if value < 8e3:\n",
    "        return f\"{value/8:g} B\"\n",
    "    elif value < 8e6:\n",
    "        return f\"{value/8e3:g} KB\"\n",
    "    elif value < 8e9:\n",
    "        return f\"{value/8e6:g} MB\"\n",
    "    elif value < 8e12:\n",
    "        return f\"{value/8e9:g} GB\"\n",
    "    else:\n",
    "        return f\"{value/8e12:g} TB\"\n",
    "\n",
    "\n",
    "def percentage_to_float(df_col):\n",
    "    return df_col.apply(lambda x: float(x[0:-1]))\n",
    "\n",
    "\n",
    "def closest_power_of_2(n):\n",
    "    return 2 ** math.ceil(math.log(n, 2))\n",
    "\n",
    "\n",
    "def plot_axis(ax, xlim: tuple, ylim: tuple, fmt, idx, data: Iterable, labels: list | None = None):\n",
    "    ax.set_xlim(*xlim)\n",
    "    if ylim:\n",
    "        ax.set_ylim(*ylim)\n",
    "    if fmt:\n",
    "        ax.yaxis.set_major_formatter(fmt)\n",
    "    if labels:\n",
    "        for _data, _ in zip(data, labels):\n",
    "            ax.plot(idx, _data, linewidth=3)\n",
    "        ax.legend(labels)\n",
    "    else:\n",
    "        ax.plot(idx, *data, linewidth=3)"
   ]
  },
  {
   "cell_type": "code",
   "execution_count": 4,
   "metadata": {},
   "outputs": [],
   "source": [
    "NET_IO_COL = \"NET I/O\"\n",
    "\n",
    "dfs = {}\n",
    "for fname in iglob(f\"{LOGS_DIR}/*.csv\"):\n",
    "    df = pd.read_csv(fname, delimiter=r\"\\s\\s+\", engine=\"python\")\n",
    "\n",
    "    df = df[df[NET_IO_COL] != NET_IO_COL]\n",
    "\n",
    "    df[\"mem_percentage\"] = percentage_to_float(df[\"MEM %\"])\n",
    "    df[\"cpu_percentage\"] = percentage_to_float(df[\"CPU %\"])\n",
    "    df[\"mem_usage_bits\"] = df[\"MEM USAGE / LIMIT\"].apply(lambda x: to_bit(x[: x.find(\"/\") - 1]))\n",
    "    df[[\"net_input_bits\", \"net_output_bits\"]] = df[NET_IO_COL].apply(\n",
    "        lambda x: pd.Series(map(to_bit, map(str.strip, x.split(\"/\"))))\n",
    "    )\n",
    "    df = df.drop([\"CONTAINER ID\", \"CPU %\", \"MEM USAGE / LIMIT\", \"MEM %\", NET_IO_COL, \"PIDS\", \"BLOCK I/O\"], axis=1)\n",
    "    dfs[int(fname[fname.rfind('_')+1:fname.rfind('.')])] = df\n",
    "    "
   ]
  },
  {
   "cell_type": "markdown",
   "metadata": {},
   "source": [
    "Get the maximum values for each category in our dataset:"
   ]
  },
  {
   "cell_type": "code",
   "execution_count": 50,
   "metadata": {},
   "outputs": [],
   "source": [
    "containers = list(CONTAINERS.values())\n",
    "container_nice_names = list(CONTAINERS.keys())\n",
    "\n",
    "max_val_mem = max(max(df.loc[df[\"NAME\"].isin(containers)].mem_percentage) for df in dfs.values())\n",
    "max_val_cpu = max(max(df.loc[df[\"NAME\"].isin(containers)].cpu_percentage) for df in dfs.values())\n",
    "max_val_net = max(\n",
    "    max(\n",
    "        max(df.loc[df[\"NAME\"].isin(containers)].net_input_bits),\n",
    "        max(df.loc[df[\"NAME\"].isin(containers)].net_output_bits),\n",
    "    )\n",
    "    for df in dfs.values()\n",
    ")\n",
    "max_val_mem_bits = max(max(df.loc[df[\"NAME\"].isin(containers)].mem_usage_bits) for df in dfs.values())\n",
    "\n",
    "plt.style.use('ggplot')"
   ]
  },
  {
   "cell_type": "markdown",
   "metadata": {},
   "source": [
    "## Create and configure the figures and data formats\n",
    "\n",
    "This cell creates a list of \"meta figures\", i.e. structures that will contain everything needed to render our plots correctly given each of the categories' rules (e.g. a specific formatter, different x/y limits, etc).\n",
    "We define three meta figures: Network I/O, CPU Usage %, and Memory Usage %.\n",
    "Each `MetaFig` object is able to correctly read and plot the data in our dataset given its specific configuration.\n",
    "\n",
    "Other meta figures can be created programatically simply by adding another entry to this list - the rest of the script will adapt to the new size accordingly."
   ]
  },
  {
   "cell_type": "code",
   "execution_count": 56,
   "metadata": {},
   "outputs": [],
   "source": [
    "axfmts = [\n",
    "    MetaFig(title=\"Memory Usage\",\n",
    "            xlim=(0, 120),\n",
    "            ylim=(0, closest_power_of_2(max_val_mem_bits)),\n",
    "            data_keys=[\"mem_usage_bits\"],\n",
    "        #     data_transform=(lambda x: x / 1e6),\n",
    "            fmt=(lambda x, _: from_bit(int(x)))),\n",
    "    MetaFig(title=\"Network I/O\",\n",
    "            xlim=(0, 120), \n",
    "            ylim=(-0.5, closest_power_of_2(max_val_net / 8e6)), \n",
    "            data_keys=[\"net_input_bits\", \"net_output_bits\"], \n",
    "            data_transform=(lambda x: x / (8e6)),\n",
    "            labels=['input (MB)', 'output (MB)']),\n",
    "    MetaFig(title=\"CPU Usage %\",\n",
    "            xlim=(0, 120),\n",
    "            ylim=(-1, closest_power_of_2(max_val_cpu)),\n",
    "            data_keys=[\"cpu_percentage\"],\n",
    "            fmt=(lambda x, _: f'{int(x)}%')),\n",
    "    MetaFig(title=\"Memory Usage %\",\n",
    "            xlim=(0, 120),\n",
    "            ylim=(0.15, closest_power_of_2(max_val_mem)),\n",
    "            data_keys=[\"mem_percentage\"],\n",
    "            fmt=(lambda x, _: f'{int(x*100)/100}%')),\n",
    "]"
   ]
  },
  {
   "cell_type": "markdown",
   "metadata": {},
   "source": [
    "Plot the data:"
   ]
  },
  {
   "cell_type": "code",
   "execution_count": null,
   "metadata": {},
   "outputs": [],
   "source": [
    "# Create subplots\n",
    "for axfmt in axfmts:\n",
    "    fig, axes = plt.subplots(nrows=len(containers), ncols=len(dfs), figsize=(3 * len(dfs), 8))\n",
    "    axfmt.figure = fig\n",
    "    axfmt.axes = axes\n",
    "    axfmt.replicas = {replica: plt.subplots(nrows=len(containers), ncols=1, figsize=(4, 8)) for replica in sorted(dfs.keys())}\n",
    "\n",
    "# Plot data\n",
    "for i, container in enumerate(containers):\n",
    "    for j, replicas_amount in enumerate(sorted(dfs.keys())):\n",
    "        df = dfs[replicas_amount]\n",
    "\n",
    "        edm = df.loc[df[\"NAME\"] == container].copy()\n",
    "        edm['time'] = pd.timedelta_range(start='0 seconds', periods=len(edm), freq=f'{round(125 / len(edm))}S')\n",
    "        edm.set_index(\"time\", inplace=True)\n",
    "        edm = edm.drop([\"NAME\"], axis=1)\n",
    "\n",
    "        for axfmt in axfmts:\n",
    "            for ax in (axfmt.axes[i][j], axfmt.replicas[replicas_amount][1][i]):\n",
    "                plot_axis(ax, axfmt.xlim, axfmt.ylim, axfmt.fmt, edm.index.seconds, axfmt.data(edm), axfmt.labels)\n",
    "\n",
    "# Set labels and titles and layouts\n",
    "for axfmt in axfmts:\n",
    "    axes = axfmt.axes\n",
    "    for ax, col in zip(axes[0], sorted(dfs.keys())):\n",
    "        ax.set_title(f'{col} replicas')\n",
    "\n",
    "    for ax, row in zip(axes[:, 0], container_nice_names):\n",
    "        ax.set_ylabel(row, rotation=90, size='large')\n",
    "\n",
    "    fig = axfmt.figure\n",
    "    fig.suptitle(axfmt.title)\n",
    "    fig.tight_layout(pad=2)\n",
    "\n",
    "    for replica, (fig, axes) in axfmt.replicas.items():\n",
    "        for ax, row in zip(axes, container_nice_names):\n",
    "            ax.set_ylabel(row, rotation=90, size='large')\n",
    "        fig.suptitle(f'{axfmt.title} - {replica} replicas')\n",
    "        fig.tight_layout(pad=2)\n"
   ]
  },
  {
   "cell_type": "markdown",
   "metadata": {},
   "source": [
    "Save figures to disk in their respective folders."
   ]
  },
  {
   "cell_type": "code",
   "execution_count": 58,
   "metadata": {},
   "outputs": [],
   "source": [
    "[os.makedirs(f'img/{replica}/{fmt}', exist_ok=True) for replica in (list(dfs.keys()) + ['all']) for fmt in ('svg', 'png')]\n",
    "for axfmt in axfmts:\n",
    "    fig = axfmt.figure\n",
    "\n",
    "    filename = ''.join(filter((lambda c: (96 < ord(c) <= 122) or ord(c) == 32), axfmt.title.lower())).replace(' ', '_')\n",
    "\n",
    "    for fmt in ('svg', 'png'):\n",
    "        path = f'img/all/{fmt}'\n",
    "        fig.savefig(fname=f'{path}/{filename}.{fmt}')\n",
    "\n",
    "    for replica, (fig, _) in axfmt.replicas.items():\n",
    "        for fmt in ('svg', 'png'):\n",
    "            path = f'img/{replica}/{fmt}'\n",
    "            fig.savefig(fname=f'{path}/{filename}.{fmt}')"
   ]
  }
 ],
 "metadata": {
  "kernelspec": {
   "display_name": "ml",
   "language": "python",
   "name": "python3"
  },
  "language_info": {
   "codemirror_mode": {
    "name": "ipython",
    "version": 3
   },
   "file_extension": ".py",
   "mimetype": "text/x-python",
   "name": "python",
   "nbconvert_exporter": "python",
   "pygments_lexer": "ipython3",
   "version": "3.11.5"
  },
  "orig_nbformat": 4
 },
 "nbformat": 4,
 "nbformat_minor": 2
}
